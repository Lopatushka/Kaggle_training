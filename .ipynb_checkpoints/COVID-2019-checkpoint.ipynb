{
 "cells": [
  {
   "cell_type": "code",
   "execution_count": 36,
   "metadata": {},
   "outputs": [],
   "source": [
    "from mpl_toolkits.mplot3d import Axes3D\n",
    "from sklearn.preprocessing import StandardScaler\n",
    "import matplotlib.pyplot as plt # plotting\n",
    "import numpy as np # linear algebra\n",
    "import os # accessing directory structure\n",
    "import pandas as pd # data processing, CSV file I/O (e.g. pd.read_csv)"
   ]
  },
  {
   "cell_type": "code",
   "execution_count": 11,
   "metadata": {},
   "outputs": [],
   "source": [
    "import numpy as np # linear algebra\n",
    "import pandas as pd # data processing, CSV file I/O (e.g. pd.read_csv)\n",
    "import matplotlib.pyplot as plt\n",
    "import seaborn as sns"
   ]
  },
  {
   "cell_type": "code",
   "execution_count": 12,
   "metadata": {},
   "outputs": [],
   "source": [
    "data = pd.read_csv('MN997409.1-4NY0T82X016-Alignment-HitTable.csv', header = None)"
   ]
  },
  {
   "cell_type": "code",
   "execution_count": 13,
   "metadata": {},
   "outputs": [
    {
     "data": {
      "text/html": [
       "<div>\n",
       "<style scoped>\n",
       "    .dataframe tbody tr th:only-of-type {\n",
       "        vertical-align: middle;\n",
       "    }\n",
       "\n",
       "    .dataframe tbody tr th {\n",
       "        vertical-align: top;\n",
       "    }\n",
       "\n",
       "    .dataframe thead th {\n",
       "        text-align: right;\n",
       "    }\n",
       "</style>\n",
       "<table border=\"1\" class=\"dataframe\">\n",
       "  <thead>\n",
       "    <tr style=\"text-align: right;\">\n",
       "      <th></th>\n",
       "      <th>0</th>\n",
       "      <th>1</th>\n",
       "      <th>2</th>\n",
       "      <th>3</th>\n",
       "      <th>4</th>\n",
       "      <th>5</th>\n",
       "      <th>6</th>\n",
       "      <th>7</th>\n",
       "      <th>8</th>\n",
       "      <th>9</th>\n",
       "      <th>10</th>\n",
       "      <th>11</th>\n",
       "    </tr>\n",
       "  </thead>\n",
       "  <tbody>\n",
       "    <tr>\n",
       "      <th>0</th>\n",
       "      <td>MN997409.1</td>\n",
       "      <td>MN997409.1</td>\n",
       "      <td>100.00</td>\n",
       "      <td>29882</td>\n",
       "      <td>0</td>\n",
       "      <td>0</td>\n",
       "      <td>1</td>\n",
       "      <td>29882</td>\n",
       "      <td>1</td>\n",
       "      <td>29882</td>\n",
       "      <td>0.0</td>\n",
       "      <td>55182</td>\n",
       "    </tr>\n",
       "    <tr>\n",
       "      <th>1</th>\n",
       "      <td>MN997409.1</td>\n",
       "      <td>MT020881.1</td>\n",
       "      <td>99.99</td>\n",
       "      <td>29882</td>\n",
       "      <td>3</td>\n",
       "      <td>0</td>\n",
       "      <td>1</td>\n",
       "      <td>29882</td>\n",
       "      <td>1</td>\n",
       "      <td>29882</td>\n",
       "      <td>0.0</td>\n",
       "      <td>55166</td>\n",
       "    </tr>\n",
       "    <tr>\n",
       "      <th>2</th>\n",
       "      <td>MN997409.1</td>\n",
       "      <td>MT020880.1</td>\n",
       "      <td>99.99</td>\n",
       "      <td>29882</td>\n",
       "      <td>3</td>\n",
       "      <td>0</td>\n",
       "      <td>1</td>\n",
       "      <td>29882</td>\n",
       "      <td>1</td>\n",
       "      <td>29882</td>\n",
       "      <td>0.0</td>\n",
       "      <td>55166</td>\n",
       "    </tr>\n",
       "    <tr>\n",
       "      <th>3</th>\n",
       "      <td>MN997409.1</td>\n",
       "      <td>MN985325.1</td>\n",
       "      <td>99.99</td>\n",
       "      <td>29882</td>\n",
       "      <td>3</td>\n",
       "      <td>0</td>\n",
       "      <td>1</td>\n",
       "      <td>29882</td>\n",
       "      <td>1</td>\n",
       "      <td>29882</td>\n",
       "      <td>0.0</td>\n",
       "      <td>55166</td>\n",
       "    </tr>\n",
       "    <tr>\n",
       "      <th>4</th>\n",
       "      <td>MN997409.1</td>\n",
       "      <td>MN975262.1</td>\n",
       "      <td>99.99</td>\n",
       "      <td>29882</td>\n",
       "      <td>3</td>\n",
       "      <td>0</td>\n",
       "      <td>1</td>\n",
       "      <td>29882</td>\n",
       "      <td>1</td>\n",
       "      <td>29882</td>\n",
       "      <td>0.0</td>\n",
       "      <td>55166</td>\n",
       "    </tr>\n",
       "  </tbody>\n",
       "</table>\n",
       "</div>"
      ],
      "text/plain": [
       "           0           1       2      3   4   5   6      7   8      9    10  \\\n",
       "0  MN997409.1  MN997409.1  100.00  29882   0   0   1  29882   1  29882  0.0   \n",
       "1  MN997409.1  MT020881.1   99.99  29882   3   0   1  29882   1  29882  0.0   \n",
       "2  MN997409.1  MT020880.1   99.99  29882   3   0   1  29882   1  29882  0.0   \n",
       "3  MN997409.1  MN985325.1   99.99  29882   3   0   1  29882   1  29882  0.0   \n",
       "4  MN997409.1  MN975262.1   99.99  29882   3   0   1  29882   1  29882  0.0   \n",
       "\n",
       "      11  \n",
       "0  55182  \n",
       "1  55166  \n",
       "2  55166  \n",
       "3  55166  \n",
       "4  55166  "
      ]
     },
     "execution_count": 13,
     "metadata": {},
     "output_type": "execute_result"
    }
   ],
   "source": [
    "data.head()"
   ]
  },
  {
   "cell_type": "code",
   "execution_count": 14,
   "metadata": {},
   "outputs": [
    {
     "data": {
      "text/plain": [
       "(263, 12)"
      ]
     },
     "execution_count": 14,
     "metadata": {},
     "output_type": "execute_result"
    }
   ],
   "source": [
    "data.shape"
   ]
  },
  {
   "cell_type": "code",
   "execution_count": 27,
   "metadata": {},
   "outputs": [],
   "source": [
    "data = data.rename(columns = {0:\"query_acc.ver\" , 1:\"subject_acc.ver\",2:\"%_identity\",\n",
    "                              3:\"alignment_length\", 4:\"mismatches\", 5:\"gap_opens\", \n",
    "                              6:\"q.start\", 7:\"q.end\", 8:\"s.start\", 9:\"s.end\",\n",
    "                              10:\"evalue\", 11:\"bit_score\"})"
   ]
  },
  {
   "cell_type": "code",
   "execution_count": 32,
   "metadata": {},
   "outputs": [
    {
     "data": {
      "text/html": [
       "<div>\n",
       "<style scoped>\n",
       "    .dataframe tbody tr th:only-of-type {\n",
       "        vertical-align: middle;\n",
       "    }\n",
       "\n",
       "    .dataframe tbody tr th {\n",
       "        vertical-align: top;\n",
       "    }\n",
       "\n",
       "    .dataframe thead th {\n",
       "        text-align: right;\n",
       "    }\n",
       "</style>\n",
       "<table border=\"1\" class=\"dataframe\">\n",
       "  <thead>\n",
       "    <tr style=\"text-align: right;\">\n",
       "      <th></th>\n",
       "      <th>query_acc.ver</th>\n",
       "      <th>subject_acc.ver</th>\n",
       "      <th>%_identity</th>\n",
       "      <th>alignment_length</th>\n",
       "      <th>mismatches</th>\n",
       "      <th>gap_opens</th>\n",
       "      <th>q.start</th>\n",
       "      <th>q.end</th>\n",
       "      <th>s.start</th>\n",
       "      <th>s.end</th>\n",
       "      <th>evalue</th>\n",
       "      <th>bit_score</th>\n",
       "    </tr>\n",
       "  </thead>\n",
       "  <tbody>\n",
       "    <tr>\n",
       "      <th>0</th>\n",
       "      <td>MN997409.1</td>\n",
       "      <td>MN997409.1</td>\n",
       "      <td>100.00</td>\n",
       "      <td>29882</td>\n",
       "      <td>0</td>\n",
       "      <td>0</td>\n",
       "      <td>1</td>\n",
       "      <td>29882</td>\n",
       "      <td>1</td>\n",
       "      <td>29882</td>\n",
       "      <td>0.0</td>\n",
       "      <td>55182</td>\n",
       "    </tr>\n",
       "    <tr>\n",
       "      <th>1</th>\n",
       "      <td>MN997409.1</td>\n",
       "      <td>MT020881.1</td>\n",
       "      <td>99.99</td>\n",
       "      <td>29882</td>\n",
       "      <td>3</td>\n",
       "      <td>0</td>\n",
       "      <td>1</td>\n",
       "      <td>29882</td>\n",
       "      <td>1</td>\n",
       "      <td>29882</td>\n",
       "      <td>0.0</td>\n",
       "      <td>55166</td>\n",
       "    </tr>\n",
       "    <tr>\n",
       "      <th>2</th>\n",
       "      <td>MN997409.1</td>\n",
       "      <td>MT020880.1</td>\n",
       "      <td>99.99</td>\n",
       "      <td>29882</td>\n",
       "      <td>3</td>\n",
       "      <td>0</td>\n",
       "      <td>1</td>\n",
       "      <td>29882</td>\n",
       "      <td>1</td>\n",
       "      <td>29882</td>\n",
       "      <td>0.0</td>\n",
       "      <td>55166</td>\n",
       "    </tr>\n",
       "    <tr>\n",
       "      <th>3</th>\n",
       "      <td>MN997409.1</td>\n",
       "      <td>MN985325.1</td>\n",
       "      <td>99.99</td>\n",
       "      <td>29882</td>\n",
       "      <td>3</td>\n",
       "      <td>0</td>\n",
       "      <td>1</td>\n",
       "      <td>29882</td>\n",
       "      <td>1</td>\n",
       "      <td>29882</td>\n",
       "      <td>0.0</td>\n",
       "      <td>55166</td>\n",
       "    </tr>\n",
       "    <tr>\n",
       "      <th>4</th>\n",
       "      <td>MN997409.1</td>\n",
       "      <td>MN975262.1</td>\n",
       "      <td>99.99</td>\n",
       "      <td>29882</td>\n",
       "      <td>3</td>\n",
       "      <td>0</td>\n",
       "      <td>1</td>\n",
       "      <td>29882</td>\n",
       "      <td>1</td>\n",
       "      <td>29882</td>\n",
       "      <td>0.0</td>\n",
       "      <td>55166</td>\n",
       "    </tr>\n",
       "  </tbody>\n",
       "</table>\n",
       "</div>"
      ],
      "text/plain": [
       "  query_acc.ver subject_acc.ver  %_identity  alignment_length  mismatches  \\\n",
       "0    MN997409.1      MN997409.1      100.00             29882           0   \n",
       "1    MN997409.1      MT020881.1       99.99             29882           3   \n",
       "2    MN997409.1      MT020880.1       99.99             29882           3   \n",
       "3    MN997409.1      MN985325.1       99.99             29882           3   \n",
       "4    MN997409.1      MN975262.1       99.99             29882           3   \n",
       "\n",
       "   gap_opens  q.start  q.end  s.start  s.end  evalue  bit_score  \n",
       "0          0        1  29882        1  29882     0.0      55182  \n",
       "1          0        1  29882        1  29882     0.0      55166  \n",
       "2          0        1  29882        1  29882     0.0      55166  \n",
       "3          0        1  29882        1  29882     0.0      55166  \n",
       "4          0        1  29882        1  29882     0.0      55166  "
      ]
     },
     "execution_count": 32,
     "metadata": {},
     "output_type": "execute_result"
    }
   ],
   "source": [
    "data.head()"
   ]
  },
  {
   "cell_type": "code",
   "execution_count": 33,
   "metadata": {},
   "outputs": [
    {
     "data": {
      "text/html": [
       "<div>\n",
       "<style scoped>\n",
       "    .dataframe tbody tr th:only-of-type {\n",
       "        vertical-align: middle;\n",
       "    }\n",
       "\n",
       "    .dataframe tbody tr th {\n",
       "        vertical-align: top;\n",
       "    }\n",
       "\n",
       "    .dataframe thead th {\n",
       "        text-align: right;\n",
       "    }\n",
       "</style>\n",
       "<table border=\"1\" class=\"dataframe\">\n",
       "  <thead>\n",
       "    <tr style=\"text-align: right;\">\n",
       "      <th></th>\n",
       "      <th>%_identity</th>\n",
       "      <th>alignment_length</th>\n",
       "      <th>mismatches</th>\n",
       "      <th>gap_opens</th>\n",
       "      <th>q.start</th>\n",
       "      <th>q.end</th>\n",
       "      <th>s.start</th>\n",
       "      <th>s.end</th>\n",
       "      <th>evalue</th>\n",
       "      <th>bit_score</th>\n",
       "    </tr>\n",
       "  </thead>\n",
       "  <tbody>\n",
       "    <tr>\n",
       "      <th>count</th>\n",
       "      <td>263.000000</td>\n",
       "      <td>263.000000</td>\n",
       "      <td>263.000000</td>\n",
       "      <td>263.000000</td>\n",
       "      <td>263.000000</td>\n",
       "      <td>263.000000</td>\n",
       "      <td>263.000000</td>\n",
       "      <td>263.000000</td>\n",
       "      <td>263.0</td>\n",
       "      <td>263.00000</td>\n",
       "    </tr>\n",
       "    <tr>\n",
       "      <th>mean</th>\n",
       "      <td>86.064958</td>\n",
       "      <td>10711.114068</td>\n",
       "      <td>919.235741</td>\n",
       "      <td>57.821293</td>\n",
       "      <td>11295.684411</td>\n",
       "      <td>21970.517110</td>\n",
       "      <td>11212.646388</td>\n",
       "      <td>21888.836502</td>\n",
       "      <td>0.0</td>\n",
       "      <td>14240.34981</td>\n",
       "    </tr>\n",
       "    <tr>\n",
       "      <th>std</th>\n",
       "      <td>7.609654</td>\n",
       "      <td>10530.955700</td>\n",
       "      <td>1085.784789</td>\n",
       "      <td>60.654780</td>\n",
       "      <td>12022.056513</td>\n",
       "      <td>10652.170843</td>\n",
       "      <td>11963.759492</td>\n",
       "      <td>10619.703758</td>\n",
       "      <td>0.0</td>\n",
       "      <td>19226.72192</td>\n",
       "    </tr>\n",
       "    <tr>\n",
       "      <th>min</th>\n",
       "      <td>77.559000</td>\n",
       "      <td>1603.000000</td>\n",
       "      <td>0.000000</td>\n",
       "      <td>0.000000</td>\n",
       "      <td>1.000000</td>\n",
       "      <td>1923.000000</td>\n",
       "      <td>1.000000</td>\n",
       "      <td>1672.000000</td>\n",
       "      <td>0.0</td>\n",
       "      <td>1011.00000</td>\n",
       "    </tr>\n",
       "    <tr>\n",
       "      <th>25%</th>\n",
       "      <td>80.048000</td>\n",
       "      <td>1925.000000</td>\n",
       "      <td>142.000000</td>\n",
       "      <td>12.000000</td>\n",
       "      <td>16.000000</td>\n",
       "      <td>21577.000000</td>\n",
       "      <td>1.000000</td>\n",
       "      <td>21489.000000</td>\n",
       "      <td>0.0</td>\n",
       "      <td>2101.00000</td>\n",
       "    </tr>\n",
       "    <tr>\n",
       "      <th>50%</th>\n",
       "      <td>82.304000</td>\n",
       "      <td>5417.000000</td>\n",
       "      <td>359.000000</td>\n",
       "      <td>35.000000</td>\n",
       "      <td>3956.000000</td>\n",
       "      <td>27910.000000</td>\n",
       "      <td>3875.000000</td>\n",
       "      <td>27783.000000</td>\n",
       "      <td>0.0</td>\n",
       "      <td>3936.00000</td>\n",
       "    </tr>\n",
       "    <tr>\n",
       "      <th>75%</th>\n",
       "      <td>90.189000</td>\n",
       "      <td>17716.000000</td>\n",
       "      <td>989.000000</td>\n",
       "      <td>68.000000</td>\n",
       "      <td>22539.000000</td>\n",
       "      <td>29875.500000</td>\n",
       "      <td>22429.000000</td>\n",
       "      <td>29729.000000</td>\n",
       "      <td>0.0</td>\n",
       "      <td>15175.00000</td>\n",
       "    </tr>\n",
       "    <tr>\n",
       "      <th>max</th>\n",
       "      <td>100.000000</td>\n",
       "      <td>29882.000000</td>\n",
       "      <td>2952.000000</td>\n",
       "      <td>172.000000</td>\n",
       "      <td>28257.000000</td>\n",
       "      <td>29882.000000</td>\n",
       "      <td>28137.000000</td>\n",
       "      <td>30256.000000</td>\n",
       "      <td>0.0</td>\n",
       "      <td>55182.00000</td>\n",
       "    </tr>\n",
       "  </tbody>\n",
       "</table>\n",
       "</div>"
      ],
      "text/plain": [
       "       %_identity  alignment_length   mismatches   gap_opens       q.start  \\\n",
       "count  263.000000        263.000000   263.000000  263.000000    263.000000   \n",
       "mean    86.064958      10711.114068   919.235741   57.821293  11295.684411   \n",
       "std      7.609654      10530.955700  1085.784789   60.654780  12022.056513   \n",
       "min     77.559000       1603.000000     0.000000    0.000000      1.000000   \n",
       "25%     80.048000       1925.000000   142.000000   12.000000     16.000000   \n",
       "50%     82.304000       5417.000000   359.000000   35.000000   3956.000000   \n",
       "75%     90.189000      17716.000000   989.000000   68.000000  22539.000000   \n",
       "max    100.000000      29882.000000  2952.000000  172.000000  28257.000000   \n",
       "\n",
       "              q.end       s.start         s.end  evalue    bit_score  \n",
       "count    263.000000    263.000000    263.000000   263.0    263.00000  \n",
       "mean   21970.517110  11212.646388  21888.836502     0.0  14240.34981  \n",
       "std    10652.170843  11963.759492  10619.703758     0.0  19226.72192  \n",
       "min     1923.000000      1.000000   1672.000000     0.0   1011.00000  \n",
       "25%    21577.000000      1.000000  21489.000000     0.0   2101.00000  \n",
       "50%    27910.000000   3875.000000  27783.000000     0.0   3936.00000  \n",
       "75%    29875.500000  22429.000000  29729.000000     0.0  15175.00000  \n",
       "max    29882.000000  28137.000000  30256.000000     0.0  55182.00000  "
      ]
     },
     "execution_count": 33,
     "metadata": {},
     "output_type": "execute_result"
    }
   ],
   "source": [
    "data.describe()"
   ]
  },
  {
   "cell_type": "code",
   "execution_count": 34,
   "metadata": {},
   "outputs": [
    {
     "data": {
      "text/plain": [
       "Text(0.5, 1.0, 'Correlation between different fearures')"
      ]
     },
     "execution_count": 34,
     "metadata": {},
     "output_type": "execute_result"
    },
    {
     "data": {
      "image/png": "[encoded data removed]",
      "text/plain": [
       "<Figure size 720x720 with 2 Axes>"
      ]
     },
     "metadata": {
      "needs_background": "light"
     },
     "output_type": "display_data"
    }
   ],
   "source": [
    "plt.figure(figsize=(10,10))\n",
    "sns.heatmap(data.corr(), vmax=1, square=True,annot=True,cmap='viridis')\n",
    "\n",
    "plt.title('Correlation between different fearures')"
   ]
  },
  {
   "cell_type": "code",
   "execution_count": 56,
   "metadata": {},
   "outputs": [
    {
     "data": {
      "text/plain": [
       "<matplotlib.axes._subplots.AxesSubplot at 0x2663e07c780>"
      ]
     },
     "execution_count": 56,
     "metadata": {},
     "output_type": "execute_result"
    },
    {
     "data": {
      "image/png": "[encoded data removed]",
      "text/plain": [
       "<Figure size 432x288 with 1 Axes>"
      ]
     },
     "metadata": {
      "needs_background": "light"
     },
     "output_type": "display_data"
    }
   ],
   "source": [
    "sns.distplot(data[\"%_identity\"])"
   ]
  },
  {
   "cell_type": "code",
   "execution_count": 79,
   "metadata": {},
   "outputs": [
    {
     "data": {
      "text/plain": [
       "<matplotlib.axes._subplots.AxesSubplot at 0x2663ea2b240>"
      ]
     },
     "execution_count": 79,
     "metadata": {},
     "output_type": "execute_result"
    },
    {
     "data": {
      "image/png": "[encoded data removed]",
      "text/plain": [
       "<Figure size 432x288 with 1 Axes>"
      ]
     },
     "metadata": {
      "needs_background": "light"
     },
     "output_type": "display_data"
    }
   ],
   "source": [
    "sns.distplot(data[\"bit_score\"])"
   ]
  },
  {
   "cell_type": "code",
   "execution_count": 88,
   "metadata": {},
   "outputs": [
    {
     "data": {
      "image/png": "[encoded data removed]",
      "text/plain": [
       "<Figure size 216x216 with 1 Axes>"
      ]
     },
     "metadata": {
      "needs_background": "light"
     },
     "output_type": "display_data"
    }
   ],
   "source": [
    "dm = data.melt(id_vars=\"subject_acc.ver\", value_vars = [\"%_identity\"])\n",
    "g = sns.FacetGrid(dm, col='variable')\n",
    "g = (g.map(sns.distplot, 'value'))"
   ]
  },
  {
   "cell_type": "code",
   "execution_count": null,
   "metadata": {},
   "outputs": [],
   "source": []
  }
 ],
 "metadata": {
  "kernelspec": {
   "display_name": "Python 3",
   "language": "python",
   "name": "python3"
  },
  "language_info": {
   "codemirror_mode": {
    "name": "ipython",
    "version": 3
   },
   "file_extension": ".py",
   "mimetype": "text/x-python",
   "name": "python",
   "nbconvert_exporter": "python",
   "pygments_lexer": "ipython3",
   "version": "3.7.3"
  }
 },
 "nbformat": 4,
 "nbformat_minor": 2
}
